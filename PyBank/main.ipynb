{
 "cells": [
  {
   "cell_type": "code",
   "execution_count": 9,
   "id": "78923735-7e08-4889-9b79-c98b255cf10e",
   "metadata": {},
   "outputs": [
    {
     "name": "stdout",
     "output_type": "stream",
     "text": [
      "Financial Analysis\n",
      "--------------------------------------------\n",
      "Total Months: 86\n",
      "Total: $38382578\n",
      "Average Change: $7803.476744186047\n",
      "Greatest Increase in Profits: Feb-2012 ($1926159)\n",
      "Greatest Decrease in Profits: Sep-2013 ($-2196167)\n"
     ]
    }
   ],
   "source": [
    "#Write command to import CSV module\n",
    "import csv\n",
    "\n",
    "#Initialize variables to be tracked\n",
    "total_months = 0\n",
    "total_revenue = 0\n",
    "previous_revenue = 0\n",
    "revenue_change_list = []\n",
    "greatest_increase = [\"\", 0]\n",
    "greatest_decrease = [\"\", 1000000000000]\n",
    "\n",
    "#Open the csv file in read mode and convert it into a list of dictionaries\n",
    "with open(\"budget_data.csv\", \"r\") as revenue_data:\n",
    "    reader = csv.DictReader(revenue_data)\n",
    "\n",
    "    #Loop through each row in csv file\n",
    "    for row in reader:\n",
    "       \n",
    "        #Calculate total months and net total of Profit/Losses\n",
    "        total_months = total_months + 1\n",
    "        total_revenue = total_revenue + int(row[\"Profit/Losses\"])\n",
    "      \n",
    "    \n",
    "        #Initialize variables to calculate average of changes in Profit/Losses   \n",
    "        revenue_change = int(row[\"Profit/Losses\"]) - previous_revenue\n",
    "        previous_revenue = int(row[\"Profit/Losses\"])\n",
    "        revenue_change_list = revenue_change_list + [revenue_change]\n",
    "       \n",
    "        #Calculate the greatest increase\n",
    "        if (revenue_change > greatest_increase[1]):\n",
    "            greatest_increase[0] = row[\"Date\"]\n",
    "            greatest_increase[1] = revenue_change\n",
    "        \n",
    "        #Calculate the greatest decrease\n",
    "        if (revenue_change < greatest_decrease[1]):\n",
    "            greatest_decrease[0] = row[\"Date\"]\n",
    "            greatest_decrease[1] = revenue_change\n",
    "\n",
    "# #Calculate the average of changes in Profit/Losses            \n",
    "revenue_avg = sum(revenue_change_list) / len(revenue_change_list)\n",
    "\n",
    "#Print out output\n",
    "print(\"Financial Analysis\")\n",
    "print(\"--------------------------------------------\")\n",
    "print(f\"Total Months: {total_months}\")\n",
    "print(f\"Total: ${total_revenue}\")\n",
    "print(f\"Average Change: ${revenue_avg}\")\n",
    "print(f\"Greatest Increase in Profits: {greatest_increase[0]} (${greatest_increase[1]})\")\n",
    "print(f\"Greatest Decrease in Profits: {greatest_decrease[0]} (${greatest_decrease[1]})\")\n",
    "\n",
    "#Export a text file of the results\n",
    "with open(\"budget_data.txt\", \"w\") as text:\n",
    "    text.write(\"Financial Analysis\\n\")\n",
    "    text.write(\"--------------------------------------------\\n\")\n",
    "    text.write(f\"Total Months: {total_months}\\n\")\n",
    "    text.write(f\"Total: ${total_revenue}\\n\")\n",
    "    text.write(f\"Average Change: ${revenue_avg}\\n\")\n",
    "    text.write(f\"Greatest Increase in Profits: {greatest_increase[0]} (${greatest_increase[1]})\\n\")\n",
    "    text.write(f\"Greatest Decrease in Profits: {greatest_decrease[0]} (${greatest_decrease[1]})\\n\")\n",
    "    \n",
    "#I was unable to get the same Average Change as it showed on the Module 2 Assignment intructions."
   ]
  },
  {
   "cell_type": "code",
   "execution_count": null,
   "id": "512aaf69-bb12-4d7b-982a-7256b88c56a1",
   "metadata": {},
   "outputs": [],
   "source": []
  },
  {
   "cell_type": "code",
   "execution_count": null,
   "id": "f481e9d4-1a96-4d0b-8a4c-5d19b7ccf59a",
   "metadata": {},
   "outputs": [],
   "source": []
  },
  {
   "cell_type": "code",
   "execution_count": null,
   "id": "b8f7bab3-ed8e-4ad7-9911-38c8eafada55",
   "metadata": {},
   "outputs": [],
   "source": []
  },
  {
   "cell_type": "code",
   "execution_count": null,
   "id": "c9f63bac-9b33-49bf-bb8b-05addf3e50d6",
   "metadata": {},
   "outputs": [],
   "source": []
  },
  {
   "cell_type": "code",
   "execution_count": null,
   "id": "2ed82fea-9303-4628-8439-b25839706b94",
   "metadata": {},
   "outputs": [],
   "source": []
  }
 ],
 "metadata": {
  "kernelspec": {
   "display_name": "Python 3 (ipykernel)",
   "language": "python",
   "name": "python3"
  },
  "language_info": {
   "codemirror_mode": {
    "name": "ipython",
    "version": 3
   },
   "file_extension": ".py",
   "mimetype": "text/x-python",
   "name": "python",
   "nbconvert_exporter": "python",
   "pygments_lexer": "ipython3",
   "version": "3.7.11"
  }
 },
 "nbformat": 4,
 "nbformat_minor": 5
}
